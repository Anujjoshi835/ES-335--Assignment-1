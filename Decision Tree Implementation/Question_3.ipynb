{
 "cells": [
  {
   "cell_type": "markdown",
   "id": "7fcccc6f",
   "metadata": {},
   "source": [
    "# Task-5 Decision Tree Implementation"
   ]
  },
  {
   "cell_type": "markdown",
   "id": "215c834c",
   "metadata": {},
   "source": [
    "## Question 3\n",
    "\n",
    "a) Show the usage of your decision tree for the [automotive efficiency](https://archive.ics.uci.edu/ml/datasets/auto+mpg) problem.\n",
    "    \n",
    "b) Compare the performance of your model with the decision tree module from scikit learn.\n",
    "\n",
    "> You should be editing `auto-efficiency.py` for the code containing the above experiments."
   ]
  },
  {
   "cell_type": "markdown",
   "id": "53366f1b",
   "metadata": {},
   "source": [
    "### Importing required libraries"
   ]
  },
  {
   "cell_type": "code",
   "execution_count": 1,
   "id": "8b760d2f",
   "metadata": {},
   "outputs": [],
   "source": [
    "import sys\n",
    "import os\n",
    "\n",
    "# Add the path to the directory containing tree.py\n",
    "sys.path.append(os.path.abspath(\"../\"))\n",
    "\n",
    "import numpy as np\n",
    "import pandas as pd\n",
    "from tree.base import DecisionTree\n",
    "from metrics import *\n",
    "from sklearn.model_selection import train_test_split\n",
    "from sklearn.tree import DecisionTreeRegressor\n",
    "\n",
    "np.random.seed(42)"
   ]
  },
  {
   "cell_type": "markdown",
   "id": "202faf31",
   "metadata": {},
   "source": [
    "### Extracting the auto-mpg data "
   ]
  },
  {
   "cell_type": "code",
   "execution_count": 19,
   "id": "94dbac77",
   "metadata": {},
   "outputs": [
    {
     "name": "stderr",
     "output_type": "stream",
     "text": [
      "C:\\Users\\borat\\AppData\\Local\\Temp\\ipykernel_48920\\4001266812.py:4: FutureWarning: The 'delim_whitespace' keyword in pd.read_csv is deprecated and will be removed in a future version. Use ``sep='\\s+'`` instead\n",
      "  data = pd.read_csv(url, delim_whitespace=True, header=None,\n"
     ]
    },
    {
     "name": "stdout",
     "output_type": "stream",
     "text": [
      "<class 'pandas.core.frame.DataFrame'>\n",
      "RangeIndex: 398 entries, 0 to 397\n",
      "Data columns (total 9 columns):\n",
      " #   Column        Non-Null Count  Dtype  \n",
      "---  ------        --------------  -----  \n",
      " 0   mpg           398 non-null    float64\n",
      " 1   cylinders     398 non-null    int64  \n",
      " 2   displacement  398 non-null    float64\n",
      " 3   horsepower    398 non-null    object \n",
      " 4   weight        398 non-null    float64\n",
      " 5   acceleration  398 non-null    float64\n",
      " 6   model year    398 non-null    int64  \n",
      " 7   origin        398 non-null    int64  \n",
      " 8   car name      398 non-null    object \n",
      "dtypes: float64(4), int64(3), object(2)\n",
      "memory usage: 28.1+ KB\n"
     ]
    }
   ],
   "source": [
    "\n",
    "# Load the Auto MPG dataset\n",
    "\n",
    "url = 'https://archive.ics.uci.edu/ml/machine-learning-databases/auto-mpg/auto-mpg.data'\n",
    "data = pd.read_csv(url, delim_whitespace=True, header=None,\n",
    "                  names=[\"mpg\", \"cylinders\", \"displacement\", \"horsepower\", \"weight\",\n",
    "                         \"acceleration\", \"model year\", \"origin\", \"car name\"])\n",
    "\n",
    "data.info()"
   ]
  },
  {
   "cell_type": "code",
   "execution_count": 20,
   "id": "9258c8f1",
   "metadata": {},
   "outputs": [
    {
     "name": "stdout",
     "output_type": "stream",
     "text": [
      "Missing values in dataset: 0\n",
      "Duplicate rows in dataset: 0\n",
      "Dataset shape after cleaning: (398, 8)\n"
     ]
    },
    {
     "name": "stderr",
     "output_type": "stream",
     "text": [
      "C:\\Users\\borat\\AppData\\Local\\Temp\\ipykernel_48920\\1632810956.py:3: FutureWarning: A value is trying to be set on a copy of a DataFrame or Series through chained assignment using an inplace method.\n",
      "The behavior will change in pandas 3.0. This inplace method will never work because the intermediate object on which we are setting values always behaves as a copy.\n",
      "\n",
      "For example, when doing 'df[col].method(value, inplace=True)', try using 'df.method({col: value}, inplace=True)' or df[col] = df[col].method(value) instead, to perform the operation inplace on the original object.\n",
      "\n",
      "\n",
      "  data['horsepower'].replace('?', 0, inplace=True)\n"
     ]
    }
   ],
   "source": [
    "data.drop('car name', axis=1, inplace=True)\n",
    "\n",
    "data['horsepower'].replace('?', 0, inplace=True)\n",
    "data['horsepower'] = pd.to_numeric(data['horsepower'])\n",
    "\n",
    "data.replace('?', np.nan, inplace=True)\n",
    "print(\"Missing values in dataset:\", data.isnull().sum().sum())\n",
    "if data.isnull().values.any():\n",
    "    data.dropna(inplace=True)\n",
    "\n",
    "\n",
    "print(\"Duplicate rows in dataset:\", data.duplicated().sum())\n",
    "if data.duplicated().any():\n",
    "    data.drop_duplicates(inplace=True)\n",
    "\n",
    "print(\"Dataset shape after cleaning:\", data.shape)"
   ]
  },
  {
   "cell_type": "code",
   "execution_count": 21,
   "id": "4963d284",
   "metadata": {},
   "outputs": [
    {
     "name": "stdout",
     "output_type": "stream",
     "text": [
      "X shape: (398, 7)\n",
      "y shape: (398,)\n"
     ]
    }
   ],
   "source": [
    "# separate X and y\n",
    "X = data.drop('mpg', axis=1)\n",
    "y = data['mpg']\n",
    "print(\"X shape:\", X.shape)\n",
    "print(\"y shape:\", y.shape)"
   ]
  },
  {
   "cell_type": "markdown",
   "id": "6306819e",
   "metadata": {},
   "source": [
    "### Splitting the data into training and testing sets"
   ]
  },
  {
   "cell_type": "code",
   "execution_count": 22,
   "id": "7b1e1f6f",
   "metadata": {},
   "outputs": [
    {
     "name": "stdout",
     "output_type": "stream",
     "text": [
      "X_train size:  (278, 7)\n",
      "y_train size:  (278,)\n",
      "X_test size:  (120, 7)\n",
      "y_test size:  (120,)\n"
     ]
    }
   ],
   "source": [
    "X_train, X_test, y_train, y_test = train_test_split(X, y, test_size=0.3, random_state=42)\n",
    "\n",
    "print(\"X_train size: \", X_train.shape)\n",
    "print(\"y_train size: \", y_train.shape)\n",
    "print(\"X_test size: \", X_test.shape)\n",
    "print(\"y_test size: \", y_test.shape)\n"
   ]
  },
  {
   "cell_type": "markdown",
   "id": "5a83758e",
   "metadata": {},
   "source": [
    "### Q3 a) Our custom  decision tree implementation "
   ]
  },
  {
   "cell_type": "code",
   "execution_count": 23,
   "id": "00df7124",
   "metadata": {},
   "outputs": [
    {
     "name": "stdout",
     "output_type": "stream",
     "text": [
      "Train Metrics (Custom Decision Tree):\n",
      "Root Mean Squared Error: 3.5642\n",
      "Mean Absolute Error: 2.3862\n",
      "\n",
      "Test Metrics (Custom):\n",
      "Root Mean Squared Error: 3.6783\n",
      "Mean Absolute Error: 2.9078\n"
     ]
    }
   ],
   "source": [
    "our_dt = DecisionTree(criterion=\"information_gain\", max_depth=5)\n",
    "our_dt.fit(X_train, y_train)\n",
    "\n",
    "y_train_pred = our_dt.predict(X_train)\n",
    "y_test_pred = our_dt.predict(X_test)\n",
    "\n",
    "train_rmse_my = rmse(y_train_pred, y_train)\n",
    "train_mae_my = mae(y_train_pred, y_train)\n",
    "\n",
    "print(\"Train Metrics (Custom Decision Tree):\")\n",
    "print(f\"Root Mean Squared Error: {train_rmse_my:.4f}\")\n",
    "print(f\"Mean Absolute Error: {train_mae_my:.4f}\")\n",
    "\n",
    "test_rmse_my = rmse(y_test_pred, y_test)\n",
    "test_mae_my = mae(y_test_pred, y_test)\n",
    "\n",
    "print(\"\\nTest Metrics (Custom):\")\n",
    "print(f\"Root Mean Squared Error: {test_rmse_my:.4f}\")\n",
    "print(f\"Mean Absolute Error: {test_mae_my:.4f}\")"
   ]
  },
  {
   "cell_type": "markdown",
   "id": "7567dfd0",
   "metadata": {},
   "source": [
    "### Q3 b) Using SkLearn's Decision Tree Regressor"
   ]
  },
  {
   "cell_type": "code",
   "execution_count": 24,
   "id": "5a4fc9bd",
   "metadata": {},
   "outputs": [
    {
     "name": "stdout",
     "output_type": "stream",
     "text": [
      "Training Metrics (DecisionTreeRegressor):\n",
      "Root Mean Squared Error: 2.09584\n",
      "Mean Absolute Error: 1.54258\n",
      "\n",
      "Test Metrics (DecisionTreeRegressor):\n",
      "Root Mean Squared Error: 3.41111\n",
      "Mean Absolute Error: 2.36398\n"
     ]
    }
   ],
   "source": [
    "sklearn_model = DecisionTreeRegressor(max_depth=5)\n",
    "sklearn_model.fit(X_train, y_train)\n",
    "\n",
    "y_train_pred = sklearn_model.predict(X_train)\n",
    "y_test_pred = sklearn_model.predict(X_test)\n",
    "\n",
    "train_rmse = rmse(pd.Series(y_train_pred), y_train)\n",
    "train_mae = mae(pd.Series(y_train_pred), y_train)\n",
    "\n",
    "print(\"Training Metrics (DecisionTreeRegressor):\")\n",
    "print(f\"Root Mean Squared Error: {train_rmse:.5f}\")\n",
    "print(f\"Mean Absolute Error: {train_mae:.5f}\")\n",
    "\n",
    "test_rmse = rmse(pd.Series(y_test_pred), y_test)\n",
    "test_mae = mae(pd.Series(y_test_pred), y_test)\n",
    "\n",
    "print(\"\\nTest Metrics (DecisionTreeRegressor):\")\n",
    "print(f\"Root Mean Squared Error: {test_rmse:.5f}\")\n",
    "print(f\"Mean Absolute Error: {test_mae:.5f}\")"
   ]
  },
  {
   "cell_type": "markdown",
   "id": "7ac62e11",
   "metadata": {},
   "source": [
    "## Performance Comparison"
   ]
  },
  {
   "cell_type": "code",
   "execution_count": 25,
   "id": "f2e446df",
   "metadata": {},
   "outputs": [
    {
     "name": "stdout",
     "output_type": "stream",
     "text": [
      "\n",
      "Performance Comparison:\n",
      "\n",
      "Our Decision Tree - Train RMSE: 3.56416\n",
      "Our Decision Tree - Test RMSE: 3.67832\n",
      "Scikit-Learn Decision Tree - Train RMSE: 2.09584\n",
      "Scikit-Learn Decision Tree - Test RMSE: 3.41111\n"
     ]
    }
   ],
   "source": [
    "print(\"\\nPerformance Comparison:\\n\")\n",
    "print(f\"Our Decision Tree - Train RMSE: {train_rmse_my:.5f}\")\n",
    "print(f\"Our Decision Tree - Test RMSE: {test_rmse_my:.5f}\")\n",
    "print(f\"Scikit-Learn Decision Tree - Train RMSE: {train_rmse:.5f}\")\n",
    "print(f\"Scikit-Learn Decision Tree - Test RMSE: {test_rmse:.5f}\")"
   ]
  },
  {
   "cell_type": "markdown",
   "id": "0fae09c6",
   "metadata": {},
   "source": [
    "Scikit-Learn’s Decision Tree shows stronger performance compared to our custom implementation.\n",
    "\n",
    "- **Training RMSE**: Custom = 3.5642, Scikit-Learn = 2.0958  \n",
    "- **Test RMSE**: Custom = 3.6783, Scikit-Learn = 3.4111  \n",
    "\n",
    "The Scikit-Learn model achieves lower errors on both training and test sets—likely due to optimized splitting strategies, pruning mechanisms, and more robust handling of edge cases.  \n",
    "In contrast, our custom implementation shows signs of underfitting, with relatively higher errors across both datasets.  \n",
    "Further refinement of our algorithm could help improve both fit and generalization.\n"
   ]
  }
 ],
 "metadata": {
  "kernelspec": {
   "display_name": "Python 3",
   "language": "python",
   "name": "python3"
  },
  "language_info": {
   "codemirror_mode": {
    "name": "ipython",
    "version": 3
   },
   "file_extension": ".py",
   "mimetype": "text/x-python",
   "name": "python",
   "nbconvert_exporter": "python",
   "pygments_lexer": "ipython3",
   "version": "3.12.8"
  }
 },
 "nbformat": 4,
 "nbformat_minor": 5
}
