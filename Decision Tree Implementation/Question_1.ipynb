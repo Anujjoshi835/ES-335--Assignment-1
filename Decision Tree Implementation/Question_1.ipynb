{
 "cells": [
  {
   "cell_type": "markdown",
   "id": "0d8a8d76",
   "metadata": {},
   "source": [
    "# Task-5 Decision Tree Implementation"
   ]
  },
  {
   "cell_type": "markdown",
   "id": "343252fe",
   "metadata": {},
   "source": [
    "## Question 1\n",
    "\n",
    "Q1. Complete the decision tree implementation in tree/base.py. The code should be written in Python and not use existing libraries other than the ones shared in class or already imported in the code. Your decision tree should work for four cases:\n",
    "\n",
    "i) discrete features, discrete output;\n",
    "\n",
    "ii) discrete features, real output;\n",
    "\n",
    "iii) real features, discrete output; \n",
    "\n",
    "iv) real features, real output. \n",
    "\n",
    "Your model should accept real inputs only (for discrete inputs, you may convert the attributes into one-hot encoded vectors). Your decision tree should be able to use InformationGain using Entropy or GiniIndex as the criteria for splitting for discrete output. Your decision tree should be able to use InformationGain using MSE as the criteria for splitting for real output. Your code should also be able to plot/display the decision tree."
   ]
  }
 ],
 "metadata": {
  "language_info": {
   "name": "python"
  }
 },
 "nbformat": 4,
 "nbformat_minor": 5
}
